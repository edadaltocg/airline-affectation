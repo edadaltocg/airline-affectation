{
 "cells": [
  {
   "cell_type": "markdown",
   "metadata": {},
   "source": [
    "# Airline staffing problem\n",
    "\n",
    "#### Eduardo Dadalto Camara Gomes and Augusto Tadashi.\n",
    "\n",
    "This problem is about the staffing of an airline, i.e. assigning pilots and crew members to scheduled flights using a Constraint Satisfaction/Optimisation Problem (CSP/COP) solver (here `facile`). Three instances of the problem are given.\n",
    "\n",
    "As a pure CSP modelling fails for the larger instance, we will solve it using a combination of CSP and Mixed-Integer Linear Programming (MILP) modelling. You may refer to past classes with the `PuLP` library for basic usage."
   ]
  },
  {
   "cell_type": "code",
   "execution_count": 1,
   "metadata": {},
   "outputs": [],
   "source": [
    "import facile"
   ]
  },
  {
   "cell_type": "markdown",
   "metadata": {},
   "source": [
    "## Problem description\n",
    "\n",
    "An airline operates a given set of flights between pairs of airports. Each flight must be staffed with two pilots and enough cabin crew members depending on the type of aircraft.\n",
    "\n",
    "Each staff member must start its trip from his hometown (not before 12am) and be back home in the evening (before 12am). They must not fly more than a maximum number of flights per day, and more than a maximum amount of time out of home (from first take-off time to last landing time in addition to commuting time).\n",
    "\n",
    "Each staff member may fly as a passenger if they just need to be transferred to another airport/city. They may as well be assigned to just stay home.\n",
    "\n",
    "We will first search for a solution to this problem, then find the optimal solution that will maximise the money made by the airline by minimising the number of passenger seats assigned to staff."
   ]
  },
  {
   "cell_type": "markdown",
   "metadata": {},
   "source": [
    "## Problem data"
   ]
  },
  {
   "cell_type": "markdown",
   "metadata": {},
   "source": [
    "The following data are given:\n",
    "- `Nv`: total number of flights;\n",
    "- `Na`: total number of airports;\n",
    "- `Ni`: total number of cities;\n",
    "- `Va`: a table associating a city to an airport (they may be several airports in the same city);\n",
    "- `Ov` (resp. `Dv`): this table associates an origin (resp. destination) airport to a flight;\n",
    "- `Td` (resp. `Ta`): this table associates a take-off time (resp. landing time) to a flight, (in round hours);\n",
    "- `Dt`: this table returns transit times between two airports of the same city (in hours). This time is equal to 25 (more than a day, so infinite) for airports in different cities; `Dt[i][i]` is the time required to transfer between two aircraft at airport $i$;\n",
    "- `Np`: this table associates a number of passenger seats to a flight;\n",
    "- `Nec`: this table associates a number of required cabin crew members to a flight;\n",
    "- `Pr`: this table associates a price for a ticket in a flight;\n",
    "- `Ne`: total number of staff in the airline;\n",
    "- `Ty`: this table associates 1 to a pilot, 0 to a cabin crew member;\n",
    "- `Vh`: this tables associates a hometown to each staff member;\n",
    "- `Nvmax`: maximum number of flights per staff member per day;\n",
    "- `Dmax`: maximum work time (out of home) per staff member per day;\n",
    "- `Dda`: standard commuting time (both ways).\n",
    "\n",
    "Index 0 in the tables printed below means \"no flight\", associated to \"no airport\" and \"no city\"."
   ]
  },
  {
   "cell_type": "code",
   "execution_count": 2,
   "metadata": {
    "jupyter": {
     "outputs_hidden": false
    }
   },
   "outputs": [],
   "source": [
    "def load_airline(airline_size):\n",
    "    if airline_size == 1:\n",
    "        %run airline-tiny.py\n",
    "    if airline_size == 2:\n",
    "        %run airline-small.py\n",
    "    if airline_size == 3:\n",
    "        %run airline-normal.py"
   ]
  },
  {
   "cell_type": "markdown",
   "metadata": {},
   "source": [
    "## CSP modelling\n",
    "\n",
    "### Variable definitions\n",
    "\n",
    "First, define the variables of the problem. You may associate a variable to each flight taken by a staff member on a given day."
   ]
  },
  {
   "cell_type": "markdown",
   "metadata": {},
   "source": [
    "#### Comments\n",
    "\n",
    "<div class=\"alert alert-danger\">\n",
    "$schedule = \\sum\\limits_{i = 1}^{N_e}\\sum\\limits_{j = 0}^{N_{vmax}} var_{i,j}$\n",
    "\n",
    "$schedule$ is a matrix of variables with $N_e$ rows and $N_{vmax}+1$ columns. The variable $var$ can have values from 0 to $N_v$    \n",
    "</div>\n"
   ]
  },
  {
   "cell_type": "code",
   "execution_count": 3,
   "metadata": {
    "jupyter": {
     "outputs_hidden": false
    }
   },
   "outputs": [],
   "source": [
    "load_airline(2)\n",
    "schedule = [[facile.variable(0,Nv) for i in range(Nvmax+1)] for j in range(Ne)]"
   ]
  },
  {
   "cell_type": "markdown",
   "metadata": {},
   "source": [
    "### Constraints definition (50%)\n"
   ]
  },
  {
   "cell_type": "markdown",
   "metadata": {},
   "source": [
    "- Flights assigned to `0` (no flight) must be at the end of the schedule.  \n",
    "  `[1, 0, 2]` could be equivalent to `[1, 2, 0]` but only the second one is valid."
   ]
  },
  {
   "cell_type": "markdown",
   "metadata": {},
   "source": [
    "#### Comments\n",
    "\n",
    "<div class=\"alert alert-danger\">\n",
    "Constraint :\n",
    "    <br/>- The first column is equal to zero (because the matrix has $N_{vmax}+1$ columns).\n",
    "    <br/>$schedule_{i,0} = 0$\n",
    "    <br/>\n",
    "    <br/>- The element of the matrix line is different to zero or the next element is equal to zero to guarantee that all flights assigned to 0 are in the end of the schedule.\n",
    "    <br/> $schedule_{i,j} \\neq 0$ | $schedule_{i,j+1} = 0$ ($schedule_{i,j} = 0$ $\\rightarrow$ $schedule_{i,j+1} = 0$)\n",
    "</div>"
   ]
  },
  {
   "cell_type": "code",
   "execution_count": 4,
   "metadata": {
    "jupyter": {
     "outputs_hidden": false
    }
   },
   "outputs": [],
   "source": [
    "for line in schedule:\n",
    "    facile.constraint(line[0] == 0)\n",
    "    for j in range(1, Nvmax):\n",
    "        \n",
    "        # Constraint\n",
    "        facile.constraint((line[j] != 0) | (line[j+1] == 0))"
   ]
  },
  {
   "cell_type": "markdown",
   "metadata": {},
   "source": [
    "- If a staff member flies on that day, then (s)he leaves home and returns home."
   ]
  },
  {
   "cell_type": "markdown",
   "metadata": {},
   "source": [
    "#### Comments\n",
    "\n",
    "<div class=\"alert alert-danger\">\n",
    "    Constraint :\n",
    "    <br/> - City of departure is the same as staff member hometown and  is the first flight ($facile.constraint( (citydeparture == hometown) | (flight1 == 0))$)\n",
    "    <br/> $citydeparture \\neq hometow \\rightarrow flight1 = 0$\n",
    "    <br/>\n",
    "    <br/> - The last flight arrives in the hometown ($facile.constraint((Va[Dv[lastflight]] == hometown) | (flight1 == 0))$)\n",
    "    <br/> $Va[Dv[lastflight]] \\neq hometow \\rightarrow flight1 = 0$\n",
    "</div>"
   ]
  },
  {
   "cell_type": "code",
   "execution_count": 5,
   "metadata": {
    "jupyter": {
     "outputs_hidden": false
    }
   },
   "outputs": [],
   "source": [
    "# Transform the variables in a facile.array\n",
    "Ov = facile.array(Ov)\n",
    "Dv = facile.array(Dv)\n",
    "Va = facile.array(Va)\n",
    "Ta = facile.array(Ta)\n",
    "Td = facile.array(Td)\n",
    "\n",
    "vide = []\n",
    "for j in Dt:\n",
    "    for i in j:    \n",
    "        vide.append(i)\n",
    "Dt2 = facile.array(vide)\n",
    "\n",
    "# Define constraints\n",
    "for i in range(Ne):\n",
    "    flight1 = schedule[i][1]\n",
    "    hometown = Vh[i]\n",
    "    citydeparture = Va[Ov[flight1]]\n",
    "    \n",
    "    # Constraint\n",
    "    facile.constraint( (citydeparture == hometown) | (flight1 == 0))\n",
    "    \n",
    "    staff = schedule[i][:]\n",
    "    last = sum([staff[i]!=0 for i in range(Nvmax+1)])\n",
    "    staff_array = facile.array(staff)\n",
    "    lastflight = staff_array[last]\n",
    "    destination_last = Va[Dv[lastflight]]\n",
    "    \n",
    "    # Constraint\n",
    "    facile.constraint((Va[Dv[lastflight]] == hometown) | (flight1 == 0))"
   ]
  },
  {
   "cell_type": "markdown",
   "metadata": {},
   "source": [
    "- A staff member may chain two flights iff :\n",
    "    - first flight's destination airport and second flight's origin airport cities match;\n",
    "    - there is enough transfer time between flights."
   ]
  },
  {
   "cell_type": "markdown",
   "metadata": {},
   "source": [
    "#### Comments\n",
    "\n",
    "<div class=\"alert alert-danger\">\n",
    "    Constraint :\n",
    "    <br/> - First flight's destination airport ($schedule_{i,j}$) and second flight's origin airport ($schedule_{i,j+1}$) cities match ($facile.constraint((fist \\: destination == second\\:origin) | (second\\:flight == 0))$);\n",
    "    <br/>\n",
    "    <br/> - The conexion time is longer than transit time ($facile.constraint((conexion\\:time>=transit\\:time) | (second\\:flight == 0))$)\n",
    "</div>"
   ]
  },
  {
   "cell_type": "code",
   "execution_count": 6,
   "metadata": {
    "jupyter": {
     "outputs_hidden": false
    }
   },
   "outputs": [],
   "source": [
    "for i in range(Ne):\n",
    "    staff = schedule[i][:]\n",
    "    for j in range(1,Nvmax):\n",
    "        first_flight = staff[j]\n",
    "        second_flight = staff[j+1]\n",
    "        \n",
    "        fist_destination = Va[Dv[first_flight]]\n",
    "        second_origin = Va[Ov[second_flight]]\n",
    "        \n",
    "        # Constraint\n",
    "        facile.constraint((fist_destination == second_origin) | (second_flight == 0))\n",
    "        \n",
    "        first_landing = Ta[first_flight]\n",
    "        second_takeoff = Td[second_flight]\n",
    "        conexion_time = second_takeoff - first_landing\n",
    "        first_airport = Dv[first_flight]\n",
    "        second_airport = Ov[second_flight]\n",
    "        transit_time = Dt2[first_airport*(Na+1) + second_airport]\n",
    "        \n",
    "        # Constraint\n",
    "        facile.constraint((conexion_time>=transit_time) | (second_flight == 0))\n",
    "   "
   ]
  },
  {
   "cell_type": "markdown",
   "metadata": {},
   "source": [
    "- A staff member may not exceed his/her total time out of home;"
   ]
  },
  {
   "cell_type": "markdown",
   "metadata": {},
   "source": [
    "#### Comments\n",
    "\n",
    "<div class=\"alert alert-danger\">\n",
    "    Constraint :\n",
    "    <br/> - The time between flights plus standard commuting time must be smaller than maximum work time per staff member ($facile.constraint(((time + Dda) <= (Dmax)))$). \n",
    "</div>"
   ]
  },
  {
   "cell_type": "code",
   "execution_count": 7,
   "metadata": {
    "jupyter": {
     "outputs_hidden": false
    }
   },
   "outputs": [],
   "source": [
    "for i in range(Ne):\n",
    "    flight1 = schedule[i][1]\n",
    "    staff = schedule[i][:]\n",
    "    last = sum([staff[j]!=0 for j in range(Nvmax+1)])\n",
    "    staff_array = facile.array(staff)\n",
    "    lastflight = staff_array[last]\n",
    "    time = Ta[lastflight]-Td[flight1]\n",
    "    \n",
    "    # Constraint\n",
    "    facile.constraint(((time + Dda) <= (Dmax)))"
   ]
  },
  {
   "cell_type": "markdown",
   "metadata": {},
   "source": [
    "- Each flights requires at least two pilots and enough cabin crew members."
   ]
  },
  {
   "cell_type": "markdown",
   "metadata": {},
   "source": [
    "#### Comments\n",
    "\n",
    "<div class=\"alert alert-danger\">\n",
    "    Constraint :\n",
    "    <br/> - The crew must be bigger or equal to than the minimum required in a cabin during a flight ($facile.constraint(crews >= Nec[flight])$).\n",
    "    <br/>\n",
    "    <br/> - Requires at least two pilots ($facile.constraint(pilots >= 2)$).\n",
    "</div>"
   ]
  },
  {
   "cell_type": "code",
   "execution_count": 8,
   "metadata": {
    "jupyter": {
     "outputs_hidden": false
    }
   },
   "outputs": [],
   "source": [
    "vide = []\n",
    "for j in schedule:\n",
    "    for i in j:    \n",
    "        vide.append(i)\n",
    "schedule2 = facile.array(vide)\n",
    "for flight in range(1,Nv+1):\n",
    "    crews = sum([schedule2[i*(Nvmax+1) + j] == flight for i in range(Ne) for j in range(Nvmax+1) if Ty[i] == 0])\n",
    "    pilots = sum([schedule2[i*(Nvmax+1) + j] == flight for i in range(Ne) for j in range(Nvmax+1) if Ty[i] == 1])\n",
    "    \n",
    "    # Constraint\n",
    "    facile.constraint(crews >= Nec[flight])\n",
    "    \n",
    "    # Constraint\n",
    "    facile.constraint(pilots >= 2)\n",
    "    "
   ]
  },
  {
   "cell_type": "markdown",
   "metadata": {},
   "source": [
    "### Problem optimisation (5%)"
   ]
  },
  {
   "cell_type": "code",
   "execution_count": 10,
   "metadata": {
    "jupyter": {
     "outputs_hidden": false
    }
   },
   "outputs": [],
   "source": [
    "# maximize revenue\n",
    "revenue = facile.variable(0, 1000000)\n",
    "for flight in range(1,Nv+1):\n",
    "    crews = sum([schedule2[i*(Nvmax+1) + j] == flight for i in range(Ne) for j in range(Nvmax+1) if Ty[i] == 0])\n",
    "    pilots = sum([schedule2[i*(Nvmax+1) + j] == flight for i in range(Ne) for j in range(Nvmax+1) if Ty[i] == 1])\n",
    "\n",
    "    seated = (Np[flight] - ((pilots-2) + (crews - Nec[flight])))\n",
    "    revenue = revenue + seated*Pr[flight]\n",
    "result = facile.minimize(schedule2, -revenue)"
   ]
  },
  {
   "cell_type": "markdown",
   "metadata": {},
   "source": [
    "### Answer the problem (10%)"
   ]
  },
  {
   "cell_type": "code",
   "execution_count": 11,
   "metadata": {
    "jupyter": {
     "outputs_hidden": false
    }
   },
   "outputs": [
    {
     "name": "stdout",
     "output_type": "stream",
     "text": [
      "\n",
      "Staff number 0: flight 1 from/to [1, 2] schedule at [8, 7], flight 4 from/to [2, 4] schedule at [13, 12], flight 6 from/to [4, 1] schedule at [20, 18], \n",
      "Staff number 1: flight 1 from/to [1, 2] schedule at [8, 7], flight 4 from/to [2, 4] schedule at [13, 12], flight 6 from/to [4, 1] schedule at [20, 18], \n",
      "Staff number 2: flight 2 from/to [1, 3] schedule at [9, 8], flight 5 from/to [3, 1] schedule at [24, 23], \n",
      "Staff number 3: flight 2 from/to [1, 3] schedule at [9, 8], flight 5 from/to [3, 1] schedule at [24, 23], \n",
      "Staff number 4: flight 3 from/to [1, 4] schedule at [11, 9], flight 7 from/to [4, 3] schedule at [19, 18], flight 5 from/to [3, 1] schedule at [24, 23], \n",
      "Staff number 5: flight 3 from/to [1, 4] schedule at [11, 9], flight 7 from/to [4, 3] schedule at [19, 18], flight 5 from/to [3, 1] schedule at [24, 23], \n",
      "Staff number 6: flight 1 from/to [1, 2] schedule at [8, 7], flight 4 from/to [2, 4] schedule at [13, 12], flight 6 from/to [4, 1] schedule at [20, 18], \n",
      "Staff number 7: flight 1 from/to [1, 2] schedule at [8, 7], flight 4 from/to [2, 4] schedule at [13, 12], flight 6 from/to [4, 1] schedule at [20, 18], \n",
      "Staff number 8: flight 2 from/to [1, 3] schedule at [9, 8], flight 5 from/to [3, 1] schedule at [24, 23], \n",
      "Staff number 9: flight 2 from/to [1, 3] schedule at [9, 8], flight 5 from/to [3, 1] schedule at [24, 23], \n",
      "Staff number 10: flight 3 from/to [1, 4] schedule at [11, 9], flight 6 from/to [4, 1] schedule at [20, 18], \n",
      "Staff number 11: flight 3 from/to [1, 4] schedule at [11, 9], flight 7 from/to [4, 3] schedule at [19, 18], flight 5 from/to [3, 1] schedule at [24, 23], \n",
      "Flight number 1: pilots {0, 1} cabin crew {6, 7} (≥ 2)\n",
      "Flight number 2: pilots {2, 3} cabin crew {8, 9} (≥ 2)\n",
      "Flight number 3: pilots {4, 5} cabin crew {10, 11} (≥ 2)\n",
      "Flight number 4: pilots {0, 1} cabin crew {6, 7} (≥ 1)\n",
      "Flight number 5: pilots {2, 3, 4, 5} cabin crew {8, 9, 11} (≥ 2)\n",
      "Flight number 6: pilots {0, 1} cabin crew {10, 6, 7} (≥ 2)\n",
      "Flight number 7: pilots {4, 5} cabin crew {11} (≥ 1)"
     ]
    }
   ],
   "source": [
    "for i in range(Ne):\n",
    "    vec = result.solution[i*(Nvmax+1)+1:i*(Nvmax+1)+(Nvmax+1)]\n",
    "    print('\\nStaff number {}: '.format(i), end='')\n",
    "    [print('flight {} from/to [{}, {}] schedule at [{}, {}], '\n",
    "           .format(j, Va[Ov[j]].value(),Va[Dv[j]].value(), Ta[j].value(), Td[j].value()),  end='') for j in vec if j >0] \n",
    "\n",
    "for flight in range(1,Nv+1):\n",
    "    print('\\nFlight number {}: '.format(flight), end='')\n",
    "    pilots = set()\n",
    "    crews = set()\n",
    "    for staff in range(Ne):\n",
    "        vec = result.solution[staff*(Nvmax+1)+1:staff*(Nvmax+1)+(Nvmax+1)]\n",
    "        if flight in vec:\n",
    "            if Ty[staff]:\n",
    "                pilots.add(staff) \n",
    "            else:\n",
    "                crews.add(staff)\n",
    "    num = Nec[flight]\n",
    "    [print('pilots {} cabin crew {} (≥ {})'.format(pilots, crews, num), end='')]\n"
   ]
  },
  {
   "cell_type": "markdown",
   "metadata": {},
   "source": [
    "## A different modelling for CSP and MILP\n",
    "\n",
    "Since bigger instances will require too much computing time, let's try something smarter:\n",
    "1. First use a CSP solver to compute all possible paths between cities;\n",
    "2. Then compare performances between a CSP and a MILP solver as we no longer assign staff members but groups of staff members to each path."
   ]
  },
  {
   "cell_type": "markdown",
   "metadata": {},
   "source": [
    "### First questions (10%)\n",
    "\n",
    "1. Why would it help to solve the problem for groups of staff member rather than individuals. Which mathematical principle enters into account?\n",
    "2. Try to explain why CSP better suits (compared to MILP) the path computing part of the problem."
   ]
  },
  {
   "cell_type": "markdown",
   "metadata": {},
   "source": [
    "<div class=\"alert alert-info\">\n",
    "    <b>Answer question 1</b>: \n",
    "    <br\\>When we group the staff, the search tree shrinks and avoid the combinatorial explosion.\n",
    "</div>"
   ]
  },
  {
   "cell_type": "markdown",
   "metadata": {},
   "source": [
    "<div class=\"alert alert-info\">\n",
    "    <b>Answer question 2</b>: \n",
    "    <br\\>The CSP finds all possible solutions to the problem, while the MILP optimize the solution search to find the optimal one. Thus, the MILP does not check every possible solution or path.\n",
    "</div>"
   ]
  },
  {
   "cell_type": "markdown",
   "metadata": {},
   "source": [
    "### Compute all possible paths (10%)"
   ]
  },
  {
   "cell_type": "code",
   "execution_count": 12,
   "metadata": {},
   "outputs": [],
   "source": [
    "load_airline(3)"
   ]
  },
  {
   "cell_type": "markdown",
   "metadata": {},
   "source": [
    "<div class=\"alert alert-danger\">\n",
    "    <b>Transformation of variable types</b> \n",
    "</div>"
   ]
  },
  {
   "cell_type": "code",
   "execution_count": 13,
   "metadata": {},
   "outputs": [],
   "source": [
    "Ov = facile.array(Ov)\n",
    "Dv = facile.array(Dv)\n",
    "Va = facile.array(Va)\n",
    "Ta = facile.array(Ta)\n",
    "Td = facile.array(Td)\n",
    "\n",
    "vide = []\n",
    "for j in Dt:\n",
    "    for i in j:    \n",
    "        vide.append(i)\n",
    "Dt2 = facile.array(vide)"
   ]
  },
  {
   "cell_type": "markdown",
   "metadata": {},
   "source": [
    "<div class=\"alert alert-danger\">\n",
    "    <b>Decision variable</b> \n",
    "</div>"
   ]
  },
  {
   "cell_type": "code",
   "execution_count": 14,
   "metadata": {
    "jupyter": {
     "outputs_hidden": false
    }
   },
   "outputs": [],
   "source": [
    "paths = [facile.variable(0,Nv) for i in range(Nvmax+1)]"
   ]
  },
  {
   "cell_type": "markdown",
   "metadata": {},
   "source": [
    "<div class=\"alert alert-danger\">\n",
    "    <b>First element is zero for indexing</b> \n",
    "</div>"
   ]
  },
  {
   "cell_type": "code",
   "execution_count": 16,
   "metadata": {},
   "outputs": [],
   "source": [
    "facile.constraint(paths[0] == 0)"
   ]
  },
  {
   "cell_type": "markdown",
   "metadata": {},
   "source": [
    "<div class=\"alert alert-danger\">\n",
    "    <b>Zeros in the end of each line of the matrix</b> \n",
    "</div>"
   ]
  },
  {
   "cell_type": "code",
   "execution_count": 17,
   "metadata": {
    "jupyter": {
     "outputs_hidden": false
    }
   },
   "outputs": [],
   "source": [
    "for j in range(1, Nvmax):\n",
    "    facile.constraint((paths[j] != 0) | (paths[j+1] == 0))"
   ]
  },
  {
   "cell_type": "markdown",
   "metadata": {},
   "source": [
    "<div class=\"alert alert-danger\">\n",
    "    <b>Last city equals the first city</b> \n",
    "</div>"
   ]
  },
  {
   "cell_type": "code",
   "execution_count": 18,
   "metadata": {},
   "outputs": [],
   "source": [
    "first_flight = paths[1]\n",
    "paths_array = facile.array(paths)\n",
    "last = sum(paths[j]!=0 for j in range(Nvmax+1))\n",
    "last_flight = paths_array[last]\n",
    "\n",
    "facile.constraint(Va[Ov[first_flight]] == Va[Dv[last_flight]])"
   ]
  },
  {
   "cell_type": "markdown",
   "metadata": {},
   "source": [
    "<div class=\"alert alert-danger\">\n",
    "    <b>Constraint :</b>\n",
    "    <br\\>- All flights connected\n",
    "    <br\\>- Enough connection time between flights\n",
    "</div>"
   ]
  },
  {
   "cell_type": "code",
   "execution_count": 19,
   "metadata": {},
   "outputs": [],
   "source": [
    "for j in range(1,Nvmax):\n",
    "    first_flight = paths[j]\n",
    "    second_flight = paths[j+1]\n",
    "        \n",
    "    first_destination = Va[Dv[first_flight]]\n",
    "    second_origin = Va[Ov[second_flight]]\n",
    "    facile.constraint((first_destination == second_origin) | (second_flight == 0))\n",
    "        \n",
    "    first_landing = Ta[first_flight]\n",
    "    second_takeoff = Td[second_flight]\n",
    "    conexion_time = second_takeoff - first_landing\n",
    "    first_airport = Dv[first_flight]\n",
    "    second_airport = Ov[second_flight]\n",
    "    transit_time = Dt2[first_airport*(Na+1) + second_airport]\n",
    "    facile.constraint((conexion_time>=transit_time) | (second_flight == 0))\n",
    "        "
   ]
  },
  {
   "cell_type": "markdown",
   "metadata": {},
   "source": [
    "<div class=\"alert alert-danger\">\n",
    "    <b>Constraint :</b>\n",
    "    <br\\>- Total path time does not exceed maximum work time\n",
    "</div>"
   ]
  },
  {
   "cell_type": "code",
   "execution_count": 20,
   "metadata": {},
   "outputs": [],
   "source": [
    "facile.constraint(Ta[last_flight]-Td[first_flight] + Dda <= Dmax)"
   ]
  },
  {
   "cell_type": "markdown",
   "metadata": {},
   "source": [
    "<div class=\"alert alert-danger\">\n",
    "    <b>Solution computation</b> \n",
    "</div>"
   ]
  },
  {
   "cell_type": "code",
   "execution_count": 21,
   "metadata": {},
   "outputs": [
    {
     "name": "stdout",
     "output_type": "stream",
     "text": [
      "All possible paths are: [[0, 0, 0, 0, 0], [0, 1, 6, 0, 0], [0, 1, 14, 15, 7], [0, 1, 14, 18, 3], [0, 2, 17, 3, 0], [0, 4, 8, 10, 6], [0, 4, 8, 11, 7], [0, 5, 10, 6, 0], [0, 5, 11, 7, 0], [0, 9, 8, 10, 0], [0, 9, 8, 11, 12], [0, 14, 15, 12, 0], [0, 14, 16, 13, 0], [0, 14, 18, 19, 0]]\n"
     ]
    }
   ],
   "source": [
    "result = facile.solve_all(paths)\n",
    "\n",
    "all_paths = [x.solution for x in result][:-1]\n",
    "print('All possible paths are: {}'.format(all_paths))"
   ]
  },
  {
   "cell_type": "markdown",
   "metadata": {},
   "source": [
    "### CSP and MILP resolution (15%)\n",
    "\n",
    "- Assign a group of staff members to each path;\n",
    "- Compare the computing time with CSP and MILP resolutions (use `PuLP` library for MILP);\n",
    "- Post-process and pretty-print the results;\n",
    "- Comment"
   ]
  },
  {
   "cell_type": "markdown",
   "metadata": {},
   "source": [
    "<div class=\"alert alert-danger\">\n",
    "    <b>Supplementary variable</b>\n",
    "    <br\\>- For each path there is an affected group of pilot + crew\n",
    "</div>"
   ]
  },
  {
   "cell_type": "code",
   "execution_count": 22,
   "metadata": {},
   "outputs": [
    {
     "name": "stdout",
     "output_type": "stream",
     "text": [
      "Current evaluation            : -1251000\n",
      "Current solution              : [0, 0, 1, 0, 2, 2, ...]\n",
      "Resolution status             : True\n",
      "Resolution time               : 1.3s\n",
      "\n",
      "[0, 0, 1, 0, 2, 2, 0, 0, 3, 2, 0, 0, 3, 2, 3, 2, 0, 0, 0, 0, 3, 2, 0, 0, 3, 2, 2, 2]\n"
     ]
    }
   ],
   "source": [
    "# variables:\n",
    "all_paths = [x.solution for x in result][:-1]\n",
    "num_paths = len(all_paths)\n",
    "num_pilots = sum(Ty)\n",
    "num_staffs = sum([1-stf for stf in Ty])\n",
    "\n",
    "# Paths hometown:\n",
    "paths_hometown = [Va[Ov[path[1]]].value() for path in all_paths]\n",
    "#print(paths_hometown)\n",
    "# Number of staff in each city\n",
    "staffs_per_city = [0]\n",
    "pilots_per_city = [0]\n",
    "for city in range(1,Ni+1):\n",
    "    sum_staff_city = 0\n",
    "    sum_pilot_city = 0\n",
    "    for i in range(Ne):\n",
    "        sum_staff_city += (Vh[i] == city)*(1-Ty[i])\n",
    "        sum_pilot_city += (Vh[i] == city)*Ty[i]\n",
    "    staffs_per_city.append(sum_staff_city)\n",
    "    pilots_per_city.append(sum_pilot_city)\n",
    "\n",
    "# staffs_per_city = facile.array(staffs_per_city)\n",
    "# pilots_per_city = facile.array(pilots_per_city)\n",
    "# Problem variable: number of staff and pilots per path\n",
    "staffs = [facile.variable(0,staffs_per_city[paths_hometown[j]]) for j in range(num_paths)]\n",
    "pilots = [facile.variable(0,pilots_per_city[paths_hometown[j]]) for j in range(num_paths)]\n",
    "groups1 = [[staff, pilot] for staff, pilot in zip(staffs, pilots)]\n",
    "\n",
    "vide = []\n",
    "for j in groups1:\n",
    "    for i in j:    \n",
    "        vide.append(i)\n",
    "groups = facile.array(vide)\n",
    "\n",
    "# constraint 1\n",
    "# the sum of the number of staff/pilots of all paths with a hometown i must be equal to the number \n",
    "# of staff/pilots who lives in j\n",
    "staffs_per_city = facile.array(staffs_per_city)\n",
    "pilots_per_city = facile.array(pilots_per_city)\n",
    "for j in range(1,Ni+1):\n",
    "    facile.constraint(sum([groups[i*2 + 0] for i in range(num_paths) if paths_hometown[i]==j]) <= staffs_per_city[j])\n",
    "    facile.constraint(sum(groups[i*2 + 1] for i in range(num_paths) if paths_hometown[i]==j)\n",
    "                      <= pilots_per_city[j])\n",
    "\n",
    "# constraint 2\n",
    "# each flight has the minimum number of staffs and pilots\n",
    "revenue = facile.variable(0, 1000000) \n",
    "n_staff = [0 for i in range(Nv+1)]\n",
    "n_pilot = [0 for i in range(Nv+1)]\n",
    "for flight in range(1, Nv+1):\n",
    "    for path in range(num_paths):\n",
    "        if flight in all_paths[path]:\n",
    "            n_staff[flight] += groups[path*2 + 0]\n",
    "            n_pilot[flight] += groups[path*2 + 1]\n",
    "    facile.constraint((n_staff[flight] >= Nec[flight]))\n",
    "    facile.constraint((n_pilot[flight] >= 2))\n",
    "    \n",
    "    # Objective function\n",
    "    seated = (Np[flight] - ((n_pilot[flight]-2) + (n_staff[flight] - Nec[flight])))\n",
    "    revenue += seated*Pr[flight]\n",
    "\n",
    "revenue_res = facile.minimize(groups, -revenue)\n",
    "\n",
    "print(revenue_res)\n",
    "print(revenue_res.solution)"
   ]
  },
  {
   "cell_type": "markdown",
   "metadata": {},
   "source": [
    "<div class=\"alert alert-danger\">\n",
    "    <b>Pretty print</b> \n",
    "</div>"
   ]
  },
  {
   "cell_type": "code",
   "execution_count": 23,
   "metadata": {},
   "outputs": [
    {
     "name": "stdout",
     "output_type": "stream",
     "text": [
      "\n",
      "Path number 0:  [0, 0, 0, 0, 0] alocates 0 crew members and 0 pilots and leaves from city 0\n",
      "Path number 1:  [0, 1, 6, 0, 0] alocates 1 crew members and 0 pilots and leaves from city 1\n",
      "Path number 2:  [0, 1, 14, 15, 7] alocates 2 crew members and 2 pilots and leaves from city 1\n",
      "Path number 3:  [0, 1, 14, 18, 3] alocates 0 crew members and 0 pilots and leaves from city 1\n",
      "Path number 4:  [0, 2, 17, 3, 0] alocates 3 crew members and 2 pilots and leaves from city 1\n",
      "Path number 5:  [0, 4, 8, 10, 6] alocates 0 crew members and 0 pilots and leaves from city 1\n",
      "Path number 6:  [0, 4, 8, 11, 7] alocates 3 crew members and 2 pilots and leaves from city 1\n",
      "Path number 7:  [0, 5, 10, 6, 0] alocates 3 crew members and 2 pilots and leaves from city 1\n",
      "Path number 8:  [0, 5, 11, 7, 0] alocates 0 crew members and 0 pilots and leaves from city 1\n",
      "Path number 9:  [0, 9, 8, 10, 0] alocates 0 crew members and 0 pilots and leaves from city 4\n",
      "Path number 10:  [0, 9, 8, 11, 12] alocates 3 crew members and 2 pilots and leaves from city 4\n",
      "Path number 11:  [0, 14, 15, 12, 0] alocates 0 crew members and 0 pilots and leaves from city 4\n",
      "Path number 12:  [0, 14, 16, 13, 0] alocates 3 crew members and 2 pilots and leaves from city 4\n",
      "Path number 13:  [0, 14, 18, 19, 0] alocates 2 crew members and 2 pilots and leaves from city 4\n",
      "Flight number 1: 3 crew members (≥3) from cities [1, 1, 1] and 2 pilots (≥2) from cities [1, 1]\n",
      "Flight number 2: 3 crew members (≥3) from cities [1, 1, 1] and 2 pilots (≥2) from cities [1, 1]\n",
      "Flight number 3: 3 crew members (≥3) from cities [1, 1, 1] and 2 pilots (≥2) from cities [1, 1]\n",
      "Flight number 4: 3 crew members (≥3) from cities [1, 1, 1] and 2 pilots (≥2) from cities [1, 1]\n",
      "Flight number 5: 3 crew members (≥3) from cities [1, 1, 1] and 2 pilots (≥2) from cities [1, 1]\n",
      "Flight number 6: 4 crew members (≥4) from cities [1, 1, 1, 1] and 2 pilots (≥2) from cities [1, 1]\n",
      "Flight number 7: 5 crew members (≥3) from cities [1, 1, 1, 1, 1] and 4 pilots (≥2) from cities [1, 1, 1, 1]\n",
      "Flight number 8: 6 crew members (≥2) from cities [1, 1, 1, 4, 4, 4] and 4 pilots (≥2) from cities [1, 1, 4, 4]\n",
      "Flight number 9: 3 crew members (≥3) from cities [4, 4, 4] and 2 pilots (≥2) from cities [4, 4]\n",
      "Flight number 10: 3 crew members (≥3) from cities [1, 1, 1] and 2 pilots (≥2) from cities [1, 1]\n",
      "Flight number 11: 6 crew members (≥2) from cities [1, 1, 1, 4, 4, 4] and 4 pilots (≥2) from cities [1, 1, 4, 4]\n",
      "Flight number 12: 3 crew members (≥3) from cities [4, 4, 4] and 2 pilots (≥2) from cities [4, 4]\n",
      "Flight number 13: 3 crew members (≥3) from cities [4, 4, 4] and 2 pilots (≥2) from cities [4, 4]\n",
      "Flight number 14: 7 crew members (≥3) from cities [1, 1, 4, 4, 4, 4, 4] and 6 pilots (≥2) from cities [1, 1, 4, 4, 4, 4]\n",
      "Flight number 15: 2 crew members (≥2) from cities [1, 1] and 2 pilots (≥2) from cities [1, 1]\n",
      "Flight number 16: 3 crew members (≥2) from cities [4, 4, 4] and 2 pilots (≥2) from cities [4, 4]\n",
      "Flight number 17: 3 crew members (≥2) from cities [1, 1, 1] and 2 pilots (≥2) from cities [1, 1]\n",
      "Flight number 18: 2 crew members (≥2) from cities [4, 4] and 2 pilots (≥2) from cities [4, 4]\n",
      "Flight number 19: 2 crew members (≥2) from cities [4, 4] and 2 pilots (≥2) from cities [4, 4]"
     ]
    }
   ],
   "source": [
    "groups = revenue_res.solution\n",
    "\n",
    "for path in range(num_paths):\n",
    "    print('\\nPath number {}: '.format(path), all_paths[path], end='')\n",
    "    n_staff = groups[path*2 + 0]\n",
    "    n_pilot = groups[path*2 + 1]\n",
    "    path_town = paths_hometown[path]\n",
    "    print(' alocates', n_staff, 'crew members and', n_pilot, 'pilots and leaves from city', path_town, end='')\n",
    "    \n",
    "    \n",
    "for flight in range(1,Nv+1):\n",
    "    print('\\nFlight number {}: '.format(flight), end='')\n",
    "    n_staff = 0\n",
    "    n_pilot = 0\n",
    "    staff_hometown = []\n",
    "    pilot_hometown = []\n",
    "    for path in range(num_paths):\n",
    "        if flight in all_paths[path]:\n",
    "            n_staff += groups[path*2 + 0]\n",
    "            n_pilot += groups[path*2 + 1]\n",
    "            for j in range(n_staff-len(staff_hometown)):\n",
    "                staff_hometown.append(paths_hometown[path])\n",
    "            for j in range(n_pilot-len(pilot_hometown)):\n",
    "                pilot_hometown.append(paths_hometown[path])\n",
    "    print(n_staff, 'crew members (≥{}) from cities'.format(Nec[flight]), staff_hometown,'and',\n",
    "          n_pilot, 'pilots', '(≥{}) from cities'.format(2), pilot_hometown, end='')"
   ]
  },
  {
   "cell_type": "markdown",
   "metadata": {},
   "source": [
    "### Comment\n",
    "\n",
    "<div class=\"alert alert-info\">\n",
    "    The MILP computing time is better than the CSP computing time. The main advantage of this approach (MILP) is that the linear programming subproblems can be solved usually quickly (dynamic programming) and the linear constraint result in a convex region (obtain the global optimum). The CSP case analyse all the entire domain to evaluate the problem, which usually does not occur in MILP. Due to this, the MILP perform better than the CSP and in the worst case it will analyse the entire domain.\n",
    "</div>"
   ]
  },
  {
   "cell_type": "markdown",
   "metadata": {},
   "source": [
    "# MILP using PuLP"
   ]
  },
  {
   "cell_type": "code",
   "execution_count": 24,
   "metadata": {},
   "outputs": [],
   "source": [
    "from pulp import *"
   ]
  },
  {
   "cell_type": "code",
   "execution_count": 25,
   "metadata": {},
   "outputs": [],
   "source": [
    "load_airline(3)"
   ]
  },
  {
   "cell_type": "markdown",
   "metadata": {},
   "source": [
    "<div class=\"alert alert-danger\">\n",
    "    <b>Create the 'prob' variable to contain the problem data</b> \n",
    "</div>"
   ]
  },
  {
   "cell_type": "code",
   "execution_count": 26,
   "metadata": {},
   "outputs": [],
   "source": [
    "prob = LpProblem(\"The Afectation Problem\", LpMaximize)"
   ]
  },
  {
   "cell_type": "markdown",
   "metadata": {},
   "source": [
    "<div class=\"alert alert-danger\">\n",
    "    <b>Solution space</b> \n",
    "</div>"
   ]
  },
  {
   "cell_type": "code",
   "execution_count": 28,
   "metadata": {},
   "outputs": [],
   "source": [
    "all_paths = [x.solution for x in result][:-1]\n",
    "num_paths = len(all_paths)\n",
    "# Match staff and path\n",
    "matches = [tuple([staff,g]) for staff in range(Ne) \n",
    "                for g in range(num_paths)\n",
    "                if ((Vh[staff] == Va[Ov[all_paths[g][1]]])|(all_paths[g][1] == 0))] # check staff hometown\n",
    "                  \n",
    "x = pulp.LpVariable.dicts('', matches, \n",
    "                            lowBound = 0,\n",
    "                            upBound = 1,\n",
    "                            cat = LpInteger)"
   ]
  },
  {
   "cell_type": "markdown",
   "metadata": {},
   "source": [
    "<div class=\"alert alert-danger\">\n",
    "    <b>Objective function</b> \n",
    "</div>"
   ]
  },
  {
   "cell_type": "code",
   "execution_count": 29,
   "metadata": {},
   "outputs": [],
   "source": [
    "revenue = 0\n",
    "for staff, index_path in matches:\n",
    "    crews = 0\n",
    "    pilots = 0\n",
    "    if x[tuple([staff, index_path])] != 0:\n",
    "        for flight in range(1, Nv+1):\n",
    "            crews += sum([(all_paths[index_path][j] == flight)*(1-Ty[staff])\n",
    "                            for j in range(1,Nvmax+1)])\n",
    "            pilots += sum([(all_paths[index_path][j] == flight)*Ty[staff]\n",
    "                            for j in range(1,Nvmax+1)])\n",
    "            \n",
    "            seated = (Np[flight] - ((pilots-2) + (crews - Nec[flight])))\n",
    "            revenue += seated*Pr[flight]*x[tuple([staff, index_path])]\n",
    "    \n",
    "prob += revenue"
   ]
  },
  {
   "cell_type": "markdown",
   "metadata": {},
   "source": [
    "<div class=\"alert alert-danger\">\n",
    "    <b>Check if each staff is in a group</b> \n",
    "</div>"
   ]
  },
  {
   "cell_type": "code",
   "execution_count": 30,
   "metadata": {},
   "outputs": [],
   "source": [
    "for staff in range(Ne):\n",
    "    prob += sum([x[key] for key in matches if (key[0] == staff)]) == 1"
   ]
  },
  {
   "cell_type": "markdown",
   "metadata": {},
   "source": [
    "<div class=\"alert alert-danger\">\n",
    "    <b>Check if each flight is in the paths</b> \n",
    "</div>"
   ]
  },
  {
   "cell_type": "code",
   "execution_count": 31,
   "metadata": {},
   "outputs": [],
   "source": [
    "for flight in range(1, Nv+1):\n",
    "    prob += sum([x[tuple([staff, g])] for staff,g in matches\n",
    "                                if flight in all_paths[g]]) >= 1\n",
    "    \n",
    "    # Check minimum number of pilots and crew member \n",
    "    # pilots\n",
    "    prob += sum([Ty[staff]*x[tuple([staff, index_path])] for staff,index_path in matches\n",
    "                    if flight in all_paths[index_path]]) >= 2\n",
    "    # crew members\n",
    "    prob += sum([(1-Ty[staff])*x[tuple([staff, index_path])] for staff,index_path in matches\n",
    "                    if flight in all_paths[index_path]]) >= Nec[flight]"
   ]
  },
  {
   "cell_type": "markdown",
   "metadata": {},
   "source": [
    "<div class=\"alert alert-danger\">\n",
    "    <b>Solve problem</b> \n",
    "</div>"
   ]
  },
  {
   "cell_type": "code",
   "execution_count": 35,
   "metadata": {},
   "outputs": [],
   "source": [
    "resultPulp = prob.solve()"
   ]
  },
  {
   "cell_type": "markdown",
   "metadata": {},
   "source": [
    "<div class=\"alert alert-danger\">\n",
    "    <b>Print solution</b> \n",
    "</div>"
   ]
  },
  {
   "cell_type": "code",
   "execution_count": 33,
   "metadata": {},
   "outputs": [
    {
     "name": "stdout",
     "output_type": "stream",
     "text": [
      "\n",
      "Staff number 0: flight 4 from/to [1, 2] schedule at [7, 6], flight 8 from/to [2, 3] schedule at [13, 12], flight 11 from/to [3, 5] schedule at [18, 17], flight 7 from/to [5, 1] schedule at [24, 22], \n",
      "Staff number 1: flight 2 from/to [1, 6] schedule at [11, 9], flight 17 from/to [6, 8] schedule at [18, 16], flight 3 from/to [8, 1] schedule at [24, 22], \n",
      "Staff number 2: flight 1 from/to [1, 4] schedule at [9, 8], flight 6 from/to [4, 1] schedule at [22, 21], \n",
      "Staff number 3: flight 4 from/to [1, 2] schedule at [7, 6], flight 8 from/to [2, 3] schedule at [13, 12], flight 11 from/to [3, 5] schedule at [18, 17], flight 7 from/to [5, 1] schedule at [24, 22], \n",
      "Staff number 4: flight 1 from/to [1, 4] schedule at [9, 8], flight 6 from/to [4, 1] schedule at [22, 21], \n",
      "Staff number 5: flight 2 from/to [1, 6] schedule at [11, 9], flight 17 from/to [6, 8] schedule at [18, 16], flight 3 from/to [8, 1] schedule at [24, 22], \n",
      "Staff number 6: flight 5 from/to [1, 3] schedule at [9, 7], flight 11 from/to [3, 5] schedule at [18, 17], flight 7 from/to [5, 1] schedule at [24, 22], \n",
      "Staff number 7: flight 5 from/to [1, 3] schedule at [9, 7], flight 11 from/to [3, 5] schedule at [18, 17], flight 7 from/to [5, 1] schedule at [24, 22], \n",
      "Staff number 8: flight 14 from/to [4, 7] schedule at [13, 11], flight 18 from/to [7, 8] schedule at [18, 16], flight 19 from/to [8, 4] schedule at [23, 21], \n",
      "Staff number 9: flight 14 from/to [4, 7] schedule at [13, 11], flight 15 from/to [7, 5] schedule at [19, 18], flight 12 from/to [5, 4] schedule at [22, 21], \n",
      "Staff number 10: flight 14 from/to [4, 7] schedule at [13, 11], flight 16 from/to [7, 6] schedule at [21, 19], flight 13 from/to [6, 4] schedule at [24, 23], \n",
      "Staff number 11: flight 9 from/to [4, 2] schedule at [9, 8], flight 8 from/to [2, 3] schedule at [13, 12], flight 10 from/to [3, 4] schedule at [18, 16], \n",
      "Staff number 12: flight 14 from/to [4, 7] schedule at [13, 11], flight 18 from/to [7, 8] schedule at [18, 16], flight 19 from/to [8, 4] schedule at [23, 21], \n",
      "Staff number 13: flight 9 from/to [4, 2] schedule at [9, 8], flight 8 from/to [2, 3] schedule at [13, 12], flight 10 from/to [3, 4] schedule at [18, 16], \n",
      "Staff number 14: flight 14 from/to [4, 7] schedule at [13, 11], flight 15 from/to [7, 5] schedule at [19, 18], flight 12 from/to [5, 4] schedule at [22, 21], \n",
      "Staff number 15: flight 14 from/to [4, 7] schedule at [13, 11], flight 16 from/to [7, 6] schedule at [21, 19], flight 13 from/to [6, 4] schedule at [24, 23], \n",
      "Staff number 16: flight 1 from/to [1, 4] schedule at [9, 8], flight 14 from/to [4, 7] schedule at [13, 11], flight 15 from/to [7, 5] schedule at [19, 18], flight 7 from/to [5, 1] schedule at [24, 22], \n",
      "Staff number 17: flight 2 from/to [1, 6] schedule at [11, 9], flight 17 from/to [6, 8] schedule at [18, 16], flight 3 from/to [8, 1] schedule at [24, 22], \n",
      "Staff number 18: \n",
      "Staff number 19: flight 4 from/to [1, 2] schedule at [7, 6], flight 8 from/to [2, 3] schedule at [13, 12], flight 11 from/to [3, 5] schedule at [18, 17], flight 7 from/to [5, 1] schedule at [24, 22], \n",
      "Staff number 20: flight 5 from/to [1, 3] schedule at [9, 7], flight 11 from/to [3, 5] schedule at [18, 17], flight 7 from/to [5, 1] schedule at [24, 22], \n",
      "Staff number 21: flight 2 from/to [1, 6] schedule at [11, 9], flight 17 from/to [6, 8] schedule at [18, 16], flight 3 from/to [8, 1] schedule at [24, 22], \n",
      "Staff number 22: flight 5 from/to [1, 3] schedule at [9, 7], flight 11 from/to [3, 5] schedule at [18, 17], flight 7 from/to [5, 1] schedule at [24, 22], \n",
      "Staff number 23: flight 4 from/to [1, 2] schedule at [7, 6], flight 8 from/to [2, 3] schedule at [13, 12], flight 10 from/to [3, 4] schedule at [18, 16], flight 6 from/to [4, 1] schedule at [22, 21], \n",
      "Staff number 24: flight 1 from/to [1, 4] schedule at [9, 8], flight 6 from/to [4, 1] schedule at [22, 21], \n",
      "Staff number 25: flight 2 from/to [1, 6] schedule at [11, 9], flight 17 from/to [6, 8] schedule at [18, 16], flight 3 from/to [8, 1] schedule at [24, 22], \n",
      "Staff number 26: flight 5 from/to [1, 3] schedule at [9, 7], flight 11 from/to [3, 5] schedule at [18, 17], flight 7 from/to [5, 1] schedule at [24, 22], \n",
      "Staff number 27: flight 4 from/to [1, 2] schedule at [7, 6], flight 8 from/to [2, 3] schedule at [13, 12], flight 10 from/to [3, 4] schedule at [18, 16], flight 6 from/to [4, 1] schedule at [22, 21], \n",
      "Staff number 28: flight 1 from/to [1, 4] schedule at [9, 8], flight 6 from/to [4, 1] schedule at [22, 21], \n",
      "Staff number 29: \n",
      "Staff number 30: flight 14 from/to [4, 7] schedule at [13, 11], flight 16 from/to [7, 6] schedule at [21, 19], flight 13 from/to [6, 4] schedule at [24, 23], \n",
      "Staff number 31: flight 9 from/to [4, 2] schedule at [9, 8], flight 8 from/to [2, 3] schedule at [13, 12], flight 10 from/to [3, 4] schedule at [18, 16], \n",
      "Staff number 32: flight 14 from/to [4, 7] schedule at [13, 11], flight 15 from/to [7, 5] schedule at [19, 18], flight 12 from/to [5, 4] schedule at [22, 21], \n",
      "Staff number 33: \n",
      "Staff number 34: flight 9 from/to [4, 2] schedule at [9, 8], flight 8 from/to [2, 3] schedule at [13, 12], flight 11 from/to [3, 5] schedule at [18, 17], flight 12 from/to [5, 4] schedule at [22, 21], \n",
      "Staff number 35: flight 14 from/to [4, 7] schedule at [13, 11], flight 18 from/to [7, 8] schedule at [18, 16], flight 19 from/to [8, 4] schedule at [23, 21], \n",
      "Staff number 36: flight 14 from/to [4, 7] schedule at [13, 11], flight 16 from/to [7, 6] schedule at [21, 19], flight 13 from/to [6, 4] schedule at [24, 23], \n",
      "Staff number 37: flight 14 from/to [4, 7] schedule at [13, 11], flight 18 from/to [7, 8] schedule at [18, 16], flight 19 from/to [8, 4] schedule at [23, 21], \n",
      "Staff number 38: flight 9 from/to [4, 2] schedule at [9, 8], flight 8 from/to [2, 3] schedule at [13, 12], flight 11 from/to [3, 5] schedule at [18, 17], flight 12 from/to [5, 4] schedule at [22, 21], \n",
      "Staff number 39: \n",
      "Staff number 40: flight 14 from/to [4, 7] schedule at [13, 11], flight 16 from/to [7, 6] schedule at [21, 19], flight 13 from/to [6, 4] schedule at [24, 23], \n",
      "Staff number 41: \n",
      "Flight number 1: pilots {2, 4} cabin crew {16, 24, 28} (≥ 3)\n",
      "Flight number 2: pilots {1, 5} cabin crew {17, 21, 25} (≥ 3)\n",
      "Flight number 3: pilots {1, 5} cabin crew {17, 21, 25} (≥ 3)\n",
      "Flight number 4: pilots {0, 3} cabin crew {27, 19, 23} (≥ 3)\n",
      "Flight number 5: pilots {6, 7} cabin crew {26, 20, 22} (≥ 3)\n",
      "Flight number 6: pilots {2, 4} cabin crew {24, 27, 28, 23} (≥ 4)\n",
      "Flight number 7: pilots {0, 3, 6, 7} cabin crew {16, 19, 20, 22, 26} (≥ 3)\n",
      "Flight number 8: pilots {0, 11, 3, 13} cabin crew {34, 38, 19, 23, 27, 31} (≥ 2)\n",
      "Flight number 9: pilots {11, 13} cabin crew {34, 38, 31} (≥ 3)\n",
      "Flight number 10: pilots {11, 13} cabin crew {27, 31, 23} (≥ 3)\n",
      "Flight number 11: pilots {0, 3, 6, 7} cabin crew {34, 38, 19, 20, 22, 26} (≥ 2)\n",
      "Flight number 12: pilots {9, 14} cabin crew {32, 34, 38} (≥ 3)\n",
      "Flight number 13: pilots {10, 15} cabin crew {40, 36, 30} (≥ 3)\n",
      "Flight number 14: pilots {8, 9, 10, 12, 14, 15} cabin crew {32, 35, 36, 37, 40, 16, 30} (≥ 3)\n",
      "Flight number 15: pilots {9, 14} cabin crew {16, 32} (≥ 2)\n",
      "Flight number 16: pilots {10, 15} cabin crew {40, 36, 30} (≥ 2)\n",
      "Flight number 17: pilots {1, 5} cabin crew {17, 21, 25} (≥ 2)\n",
      "Flight number 18: pilots {8, 12} cabin crew {35, 37} (≥ 2)\n",
      "Flight number 19: pilots {8, 12} cabin crew {35, 37} (≥ 2)"
     ]
    }
   ],
   "source": [
    "schedule_made = []\n",
    "for key in matches:\n",
    "    if x[key].value() == 1.0:\n",
    "        schedule_made.append(all_paths[key[1]])\n",
    "\n",
    "for i in range(Ne):\n",
    "    vec = schedule_made[i][1:]\n",
    "    print('\\nStaff number {}: '.format(i), end='')\n",
    "    [print('flight {} from/to [{}, {}] schedule at [{}, {}], '\n",
    "           .format(j, Va[Ov[j]],Va[Dv[j]], Ta[j], Td[j]),  end='') for j in vec if j>0] \n",
    "\n",
    "for flight in range(1,Nv+1):\n",
    "    print('\\nFlight number {}: '.format(flight), end='')\n",
    "    pilots = set()\n",
    "    crews = set()\n",
    "    for staff in range(Ne):\n",
    "        vec = schedule_made[staff][1:]\n",
    "        if flight in vec:\n",
    "            if Ty[staff]:\n",
    "                pilots.add(staff) \n",
    "            else:\n",
    "                crews.add(staff)\n",
    "    num = Nec[flight]\n",
    "    [print('pilots {} cabin crew {} (≥ {})'.format(pilots, crews, num), end='')]"
   ]
  },
  {
   "cell_type": "code",
   "execution_count": null,
   "metadata": {},
   "outputs": [],
   "source": []
  }
 ],
 "metadata": {
  "kernelspec": {
   "display_name": "Python 3",
   "language": "python",
   "name": "python3"
  },
  "language_info": {
   "codemirror_mode": {
    "name": "ipython",
    "version": 3
   },
   "file_extension": ".py",
   "mimetype": "text/x-python",
   "name": "python",
   "nbconvert_exporter": "python",
   "pygments_lexer": "ipython3",
   "version": "3.7.1"
  }
 },
 "nbformat": 4,
 "nbformat_minor": 4
}
